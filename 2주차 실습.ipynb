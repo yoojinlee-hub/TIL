{
  "nbformat": 4,
  "nbformat_minor": 0,
  "metadata": {
    "colab": {
      "name": "Untitled6.ipynb",
      "provenance": [],
      "authorship_tag": "ABX9TyOoL590CxVoUhVUblSK8ZsO",
      "include_colab_link": true
    },
    "kernelspec": {
      "name": "python3",
      "display_name": "Python 3"
    },
    "language_info": {
      "name": "python"
    }
  },
  "cells": [
    {
      "cell_type": "markdown",
      "metadata": {
        "id": "view-in-github",
        "colab_type": "text"
      },
      "source": [
        "<a href=\"https://colab.research.google.com/github/yoojinlee-hub/TIL/blob/main/2%EC%A3%BC%EC%B0%A8%20%EC%8B%A4%EC%8A%B5.ipynb\" target=\"_parent\"><img src=\"https://colab.research.google.com/assets/colab-badge.svg\" alt=\"Open In Colab\"/></a>"
      ]
    },
    {
      "cell_type": "code",
      "metadata": {
        "id": "k6OGy1FKjJTL"
      },
      "source": [
        "### 튜플 자료형(Tuple Type)\n",
        "\n",
        "* 소괄호 사용\n",
        "\n",
        "* 튜플 자료형은 리스트 자료형과 유사하지만 생성, 삭제, 수정이 불가\n",
        "* 튜플은 괄호 안에 여러 값을 쉼표로 구분하여 사용\n",
        "* 변수 `t` 안에 값 1, 2, 3을 저장하고, 변수와 변수의 타입을 출력하기\n",
        "\n",
        "# []DALC라는 문자를 tuple로 출력해보세요\n",
        "# print(tuple([1,2,3]))\n",
        "# print(tuple((1,2,3))"
      ],
      "execution_count": null,
      "outputs": []
    },
    {
      "cell_type": "code",
      "metadata": {
        "colab": {
          "base_uri": "https://localhost:8080/"
        },
        "id": "kS42qPBtkfb_",
        "outputId": "cc4b4f00-1625-463b-9f26-0821c730ff09"
      },
      "source": [
        "t = 1,2,3\n",
        "print(t)\n",
        "print(type(t))"
      ],
      "execution_count": null,
      "outputs": [
        {
          "output_type": "stream",
          "text": [
            "(1, 2, 3)\n",
            "<class 'tuple'>\n"
          ],
          "name": "stdout"
        }
      ]
    },
    {
      "cell_type": "code",
      "metadata": {
        "colab": {
          "base_uri": "https://localhost:8080/"
        },
        "id": "sSDNzar5juvQ",
        "outputId": "34b16087-7676-43ec-9630-656ec2514f97"
      },
      "source": [
        "t = \"DALC\"\n",
        "print((tuple)(t))"
      ],
      "execution_count": 3,
      "outputs": [
        {
          "output_type": "stream",
          "text": [
            "('D', 'A', 'L', 'C')\n"
          ],
          "name": "stdout"
        }
      ]
    },
    {
      "cell_type": "code",
      "metadata": {
        "colab": {
          "base_uri": "https://localhost:8080/"
        },
        "id": "ojYPaq6rnx3e",
        "outputId": "d319a605-d245-4f8f-b35b-e72755c79556"
      },
      "source": [
        "list('DALC')"
      ],
      "execution_count": null,
      "outputs": [
        {
          "output_type": "execute_result",
          "data": {
            "text/plain": [
              "['D', 'A', 'L', 'C']"
            ]
          },
          "metadata": {
            "tags": []
          },
          "execution_count": 30
        }
      ]
    },
    {
      "cell_type": "code",
      "metadata": {
        "colab": {
          "base_uri": "https://localhost:8080/"
        },
        "id": "m0sMGzyzzdC8",
        "outputId": "c71ee497-a766-48ee-9643-ca9b46c996e0"
      },
      "source": [
        "list([1,2,3])"
      ],
      "execution_count": null,
      "outputs": [
        {
          "output_type": "execute_result",
          "data": {
            "text/plain": [
              "[1, 2, 3]"
            ]
          },
          "metadata": {
            "tags": []
          },
          "execution_count": 29
        }
      ]
    }
  ]
}